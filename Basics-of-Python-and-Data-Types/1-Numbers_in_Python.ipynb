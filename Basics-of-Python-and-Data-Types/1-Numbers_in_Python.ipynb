{
 "cells": [
  {
   "cell_type": "markdown",
   "id": "3e1af3bd-1534-4267-bf25-2793e228ccbd",
   "metadata": {},
   "source": [
    "# Numbers in Python <a name=\"top\"></a>\n",
    "* [1 - Integer and Float Data Types](#chapter1)\n",
    "    * [1.1 - Integer](#section_1_1)\n",
    "    * [1.2 - Float](#section_1_2)\n",
    "* [2 - Basic Mathematical Operations](#chapter2)\n",
    "    * [2.1 - Addition](#section_2_1)\n",
    "    * [2.2 - Subtraction](#section_2_2)\n",
    "    * [2.3 - Multiplication](#section_2_3)\n",
    "    * [2.4 - Division](#section_2_4)\n",
    "\n",
    "* [3 - Defining Variables](#chapter3)\n",
    "* [4 - Comment Lines](#chapter4)\n",
    "    * [4.1 - Single-Line Comments](#section_4_1)\n",
    "    * [4.2 - Multi-Line Comments](#section_4_2)\n",
    "* [5 - Examples](#chapter5)"
   ]
  },
  {
   "cell_type": "markdown",
   "id": "fcab1dd4-4758-47ec-b03c-d8289a5e8008",
   "metadata": {},
   "source": [
    "## 1 - Integer and Float Data Types <a class=\"anchor\" id=\"chapter1\"></a>"
   ]
  },
  {
   "cell_type": "markdown",
   "id": "fdc6b6f7-5b99-4524-87cc-3443f4e9ac38",
   "metadata": {},
   "source": [
    "### 1.1 - Integer <a id=\"section_1_1\"></a>\n",
    "All the numbers (negative, zero or positive) are integer in the math. <br />\n",
    "**For example:** -100, 34, 2, 0\n",
    "\n"
   ]
  },
  {
   "cell_type": "markdown",
   "id": "9befe91a-a34f-44f7-b553-de975ea6dbaf",
   "metadata": {},
   "source": [
    "[Back to Table of Contents](#top)"
   ]
  },
  {
   "cell_type": "markdown",
   "id": "fabec34b-6288-4e66-939d-b9e12ad5dc9c",
   "metadata": {},
   "source": [
    "### 1.2 - Float <a id=\"section_1_2\"></a>\n",
    "Floats are one of the vary of numbers like integers. <br />\n",
    "**For example:** 3.<u>14</u>, 3.<u>55456</u>, -13.<u>54</u>"
   ]
  },
  {
   "cell_type": "markdown",
   "id": "bde9546c-6479-4574-9936-8e95f8ef5013",
   "metadata": {},
   "source": [
    "[Back to Table of Contents](#top)"
   ]
  },
  {
   "cell_type": "markdown",
   "id": "d23c8e12-10b2-4ee9-9cab-5a4234fbe7e1",
   "metadata": {},
   "source": [
    "## 2 - Basic Mathematical Operations <a id=\"chapter2\"></a>"
   ]
  },
  {
   "cell_type": "markdown",
   "id": "8f65414f-4fc7-491e-9cd4-7d34dfc1d4a5",
   "metadata": {},
   "source": [
    "### 2.1 - Addition <a id=\"section_2_1\"></a>"
   ]
  },
  {
   "cell_type": "code",
   "execution_count": 5,
   "id": "056d06d3-d887-49bf-bbf0-293db506256d",
   "metadata": {},
   "outputs": [
    {
     "data": {
      "text/plain": [
       "7"
      ]
     },
     "execution_count": 5,
     "metadata": {},
     "output_type": "execute_result"
    }
   ],
   "source": [
    "3 + 4"
   ]
  },
  {
   "cell_type": "code",
   "execution_count": 18,
   "id": "b6076e80-be23-4fa6-9421-2c10a572ddac",
   "metadata": {},
   "outputs": [
    {
     "data": {
      "text/plain": [
       "9.7"
      ]
     },
     "execution_count": 18,
     "metadata": {},
     "output_type": "execute_result"
    }
   ],
   "source": [
    "4.6 + 5.1"
   ]
  },
  {
   "cell_type": "markdown",
   "id": "0add3356-3e9d-4b59-8485-7240059cb1cb",
   "metadata": {},
   "source": [
    "[Back to Table of Contents](#top)"
   ]
  },
  {
   "cell_type": "markdown",
   "id": "6cd10850-50a1-40e6-a8b0-d2964a526507",
   "metadata": {},
   "source": [
    "### 2.2 - Subtraction <a id=\"section_2_2\"></a>"
   ]
  },
  {
   "cell_type": "code",
   "execution_count": 6,
   "id": "0f7dd19c-86dc-4518-bc05-741f24db7b70",
   "metadata": {},
   "outputs": [
    {
     "data": {
      "text/plain": [
       "-12"
      ]
     },
     "execution_count": 6,
     "metadata": {},
     "output_type": "execute_result"
    }
   ],
   "source": [
    "5 - 17"
   ]
  },
  {
   "cell_type": "code",
   "execution_count": 19,
   "id": "dcf7cc40-3e8d-4563-8958-bb4fd112aec6",
   "metadata": {},
   "outputs": [
    {
     "data": {
      "text/plain": [
       "8.5"
      ]
     },
     "execution_count": 19,
     "metadata": {},
     "output_type": "execute_result"
    }
   ],
   "source": [
    "13.4 - 4.9"
   ]
  },
  {
   "cell_type": "markdown",
   "id": "cc0804cc-5cf9-49c3-952b-ffb8f67ec311",
   "metadata": {},
   "source": [
    "[Back to Table of Contents](#top)"
   ]
  },
  {
   "cell_type": "markdown",
   "id": "68f48e3d-7a9d-4b00-b712-34655f7667cb",
   "metadata": {},
   "source": [
    "### 2.3 - Multiplication <a id=\"section_2_3\"></a>"
   ]
  },
  {
   "cell_type": "code",
   "execution_count": 7,
   "id": "8e1277a0-ae12-48d4-a0ad-d3788178f39c",
   "metadata": {},
   "outputs": [
    {
     "data": {
      "text/plain": [
       "52"
      ]
     },
     "execution_count": 7,
     "metadata": {},
     "output_type": "execute_result"
    }
   ],
   "source": [
    "13 * 4"
   ]
  },
  {
   "cell_type": "code",
   "execution_count": 20,
   "id": "7c424dd6-0035-4a78-9fb0-9f8538f3adb7",
   "metadata": {},
   "outputs": [
    {
     "data": {
      "text/plain": [
       "69.12"
      ]
     },
     "execution_count": 20,
     "metadata": {},
     "output_type": "execute_result"
    }
   ],
   "source": [
    "25.6 * 2.7"
   ]
  },
  {
   "cell_type": "markdown",
   "id": "a54453bd-723e-4792-8e6f-8013933e2763",
   "metadata": {},
   "source": [
    "[Back to Table of Contents](#top)"
   ]
  },
  {
   "cell_type": "markdown",
   "id": "3da7457c-0787-4544-bce8-ce164e8cc65b",
   "metadata": {},
   "source": [
    "### 2.4 - Division <a id=\"section_2_4\"></a>"
   ]
  },
  {
   "cell_type": "code",
   "execution_count": 8,
   "id": "eed8544a-e7fa-4281-9335-b55174b7249a",
   "metadata": {},
   "outputs": [
    {
     "data": {
      "text/plain": [
       "2.0"
      ]
     },
     "execution_count": 8,
     "metadata": {},
     "output_type": "execute_result"
    }
   ],
   "source": [
    "4 / 2"
   ]
  },
  {
   "cell_type": "code",
   "execution_count": 21,
   "id": "676227b9-8fdc-4540-8f35-f4ddfa52e873",
   "metadata": {},
   "outputs": [
    {
     "data": {
      "text/plain": [
       "16.867924528301888"
      ]
     },
     "execution_count": 21,
     "metadata": {},
     "output_type": "execute_result"
    }
   ],
   "source": [
    "89.4 / 5.3"
   ]
  },
  {
   "cell_type": "markdown",
   "id": "59421fcd-c38a-4d4b-a98e-a475d599223d",
   "metadata": {},
   "source": [
    "[Back to Table of Contents](#top)"
   ]
  },
  {
   "cell_type": "markdown",
   "id": "b6449b92-5b1f-411c-a492-74d5afbd42fb",
   "metadata": {},
   "source": [
    "## 3 - Defining Variables <a id=\"chapter3\"></a>\n",
    "The variables keep data which is one of the data types. <br />\n",
    "**For example:**\n"
   ]
  },
  {
   "cell_type": "code",
   "execution_count": 10,
   "id": "8f4026dc-0050-46d1-971e-ec263b0b8ce5",
   "metadata": {},
   "outputs": [],
   "source": [
    "i = 10"
   ]
  },
  {
   "cell_type": "code",
   "execution_count": 11,
   "id": "4c8f14de-6da9-4acf-996d-50abe7347ada",
   "metadata": {},
   "outputs": [
    {
     "data": {
      "text/plain": [
       "10"
      ]
     },
     "execution_count": 11,
     "metadata": {},
     "output_type": "execute_result"
    }
   ],
   "source": [
    "i"
   ]
  },
  {
   "cell_type": "code",
   "execution_count": 12,
   "id": "defa7d7e-be56-4779-a47d-1a582603a4c4",
   "metadata": {},
   "outputs": [
    {
     "data": {
      "text/plain": [
       "1000"
      ]
     },
     "execution_count": 12,
     "metadata": {},
     "output_type": "execute_result"
    }
   ],
   "source": [
    "i * i * i"
   ]
  },
  {
   "cell_type": "markdown",
   "id": "03226c5b-a229-46ba-a8a4-102424b67451",
   "metadata": {},
   "source": [
    "<u> There are some important points when you define a variable: </u> <br /> <br />\r",
    "**1.** The name of variables cannot start a number. <br />\n",
    "**Wrong Using:**\n"
   ]
  },
  {
   "cell_type": "code",
   "execution_count": 13,
   "id": "8bc52334-380a-4fff-9fd7-521ec3d09589",
   "metadata": {},
   "outputs": [
    {
     "ename": "SyntaxError",
     "evalue": "invalid decimal literal (775849503.py, line 1)",
     "output_type": "error",
     "traceback": [
      "\u001b[1;36m  Cell \u001b[1;32mIn[13], line 1\u001b[1;36m\u001b[0m\n\u001b[1;33m    5a = 12\u001b[0m\n\u001b[1;37m    ^\u001b[0m\n\u001b[1;31mSyntaxError\u001b[0m\u001b[1;31m:\u001b[0m invalid decimal literal\n"
     ]
    }
   ],
   "source": [
    "5a = 12"
   ]
  },
  {
   "cell_type": "markdown",
   "id": "81c42e3b-c3a4-491d-964f-c7514032d1d3",
   "metadata": {},
   "source": [
    "**2.** The name of variables cannot include a space (` `) character. <br />\n",
    "**Wrong Using:**"
   ]
  },
  {
   "cell_type": "code",
   "execution_count": 14,
   "id": "1c84254a-a10b-48d9-a06d-104e6f38da13",
   "metadata": {},
   "outputs": [
    {
     "ename": "SyntaxError",
     "evalue": "invalid syntax (1493620000.py, line 1)",
     "output_type": "error",
     "traceback": [
      "\u001b[1;36m  Cell \u001b[1;32mIn[14], line 1\u001b[1;36m\u001b[0m\n\u001b[1;33m    name of course = \"Introduction to Python\"\u001b[0m\n\u001b[1;37m         ^\u001b[0m\n\u001b[1;31mSyntaxError\u001b[0m\u001b[1;31m:\u001b[0m invalid syntax\n"
     ]
    }
   ],
   "source": [
    "name of course = \"Introduction to Python\""
   ]
  },
  {
   "cell_type": "markdown",
   "id": "d4125ba8-c4a2-4976-a1d1-39cd985d4b9c",
   "metadata": {},
   "source": [
    "**3.** The symbols (`:'\",<>/?|\\()!@#$%^&*~-+`) cannot be used defining variables. <br />\n",
    "<u>Note:</u> You can use just underline (`_`) symbol. <br />\n",
    "**Wrong Using:**\n",
    "`a? = 5` <br />\n",
    "**Correct Using:**\n",
    "`_a = 4`"
   ]
  },
  {
   "cell_type": "markdown",
   "id": "575d8041-6779-46c4-a395-b3a44821239c",
   "metadata": {},
   "source": [
    "**4.** Keywords (`while, not, if`) defined in Python cannot be used when defining variables <br />\n",
    "**Wrong Using:**"
   ]
  },
  {
   "cell_type": "markdown",
   "id": "3db1c691-1ded-4a1a-a84f-99206193f0cb",
   "metadata": {},
   "source": [
    "while = 5"
   ]
  },
  {
   "cell_type": "markdown",
   "id": "e9c7b6f0-651c-4902-8917-87331b9517d3",
   "metadata": {},
   "source": [
    "[Back to Table of Contents](#top)"
   ]
  },
  {
   "cell_type": "markdown",
   "id": "8ab5c843-64b2-4259-b3eb-1272aef559b8",
   "metadata": {},
   "source": [
    "## 4 - Comment Lines <a id=\"chapter4\"></a>"
   ]
  },
  {
   "cell_type": "markdown",
   "id": "a6c386ee-5fee-474c-baca-055791ec205a",
   "metadata": {},
   "source": [
    "You use comment lines when you want to add comments to the program you are developing. If comment lines are used in a program, they are not executed by Python."
   ]
  },
  {
   "cell_type": "markdown",
   "id": "62f5a742-24fc-4574-8c51-ab87b62a1814",
   "metadata": {},
   "source": [
    "### 4.1 - Single-Line Comments <a id=\"section_4_1\"></a>\n",
    "The symbol `#` is used for single-line comments."
   ]
  },
  {
   "cell_type": "code",
   "execution_count": 2,
   "id": "5244a01a-76b3-4a16-839d-5451c957b64f",
   "metadata": {},
   "outputs": [
    {
     "name": "stdout",
     "output_type": "stream",
     "text": [
      "Emirhan\n"
     ]
    }
   ],
   "source": [
    "# Single-Line Comments \n",
    "# Using \"print()\" function to write a value on the screen. \n",
    "print(\"Emirhan\")"
   ]
  },
  {
   "cell_type": "markdown",
   "id": "0341142e-59ea-4f40-8314-843384f6e223",
   "metadata": {},
   "source": [
    "### 4.2 - Multi-Line Comments <a id=\"section_4_2\"></a>\n",
    "The symbol `\"\"\"` is used for multi-line comments."
   ]
  },
  {
   "cell_type": "code",
   "execution_count": 1,
   "id": "f45a5947-4911-4568-8420-0622d67c136c",
   "metadata": {},
   "outputs": [
    {
     "name": "stdout",
     "output_type": "stream",
     "text": [
      "Emirhan\n"
     ]
    }
   ],
   "source": [
    "\"\"\"\n",
    "Multi-Line Comments\n",
    "Use the \"print(value)\" function to write a \"value\" on the screen.\n",
    "\"\"\"\n",
    "print(\"Emirhan\")"
   ]
  },
  {
   "cell_type": "markdown",
   "id": "69fb9488-19ca-4f3c-8ff1-182f2d1fd8de",
   "metadata": {},
   "source": [
    "[Back to Table of Contents](#top)"
   ]
  },
  {
   "cell_type": "markdown",
   "id": "d38dd9bd-a027-42c5-8e17-bb9224299cd9",
   "metadata": {},
   "source": [
    "## 5 - Examples <a id=\"chapter5\"></a>"
   ]
  },
  {
   "cell_type": "markdown",
   "id": "62f06185-5db5-4c42-9216-008c07d63bda",
   "metadata": {},
   "source": [
    "**Ex 1:**"
   ]
  },
  {
   "cell_type": "code",
   "execution_count": 22,
   "id": "103d8f31-e3fd-4121-bf5d-beeb551c4234",
   "metadata": {},
   "outputs": [],
   "source": [
    "a = 4\n",
    "b = 3\n",
    "c = a + 2 * b"
   ]
  },
  {
   "cell_type": "code",
   "execution_count": 23,
   "id": "b6d88477-dae1-4296-8395-db3345470bb0",
   "metadata": {},
   "outputs": [
    {
     "data": {
      "text/plain": [
       "10"
      ]
     },
     "execution_count": 23,
     "metadata": {},
     "output_type": "execute_result"
    }
   ],
   "source": [
    "c"
   ]
  },
  {
   "cell_type": "markdown",
   "id": "f9ffb8a4-ab7a-49bf-9f7d-a344904ad5b4",
   "metadata": {},
   "source": [
    "**Ex 2:** Let's calculate circumference of a circle using we learned."
   ]
  },
  {
   "cell_type": "code",
   "execution_count": 28,
   "id": "2c6fb7e5-f949-4564-9269-4671e9864431",
   "metadata": {},
   "outputs": [
    {
     "name": "stdout",
     "output_type": "stream",
     "text": [
      "12.56\n"
     ]
    }
   ],
   "source": [
    "pi_number = 3.14\n",
    "diameter = 4\n",
    "circumference = pi_number * diameter\n",
    "print(circumference)"
   ]
  },
  {
   "cell_type": "markdown",
   "id": "723739d1-d198-443d-a302-e48dbad582c5",
   "metadata": {},
   "source": [
    "**Note 1:** There is a practical way for the changing values of two variable in Python."
   ]
  },
  {
   "cell_type": "code",
   "execution_count": 30,
   "id": "d5703523-76c0-4f3b-aa19-1f87b1b7b49a",
   "metadata": {},
   "outputs": [
    {
     "name": "stdout",
     "output_type": "stream",
     "text": [
      "4 3\n"
     ]
    }
   ],
   "source": [
    "a = 4\n",
    "b = 3\n",
    "print(a, b)"
   ]
  },
  {
   "cell_type": "code",
   "execution_count": 31,
   "id": "d518251d-7400-4b95-bb9a-b3d074eb5401",
   "metadata": {},
   "outputs": [],
   "source": [
    "a, b = b, a"
   ]
  },
  {
   "cell_type": "code",
   "execution_count": 32,
   "id": "f91c9ba8-7b9d-471e-a7a5-57015692b2bb",
   "metadata": {},
   "outputs": [
    {
     "name": "stdout",
     "output_type": "stream",
     "text": [
      "3 4\n"
     ]
    }
   ],
   "source": [
    "print(a, b)"
   ]
  },
  {
   "cell_type": "markdown",
   "id": "e04a299b-cbcb-4d85-8841-501ad791ab22",
   "metadata": {},
   "source": [
    "**Note 2:** Finally, let's see how to increase the value of a variable."
   ]
  },
  {
   "cell_type": "code",
   "execution_count": 33,
   "id": "4dcaedc0-d01d-4e0b-b0b7-c62188723f34",
   "metadata": {},
   "outputs": [
    {
     "name": "stdout",
     "output_type": "stream",
     "text": [
      "10\n"
     ]
    }
   ],
   "source": [
    "a = 10\n",
    "print(a)"
   ]
  },
  {
   "cell_type": "code",
   "execution_count": 36,
   "id": "c82c2c26-62a0-42e5-92d2-873b9dc4b83d",
   "metadata": {},
   "outputs": [],
   "source": [
    "a += 1 # This is the same as a = a + 1."
   ]
  },
  {
   "cell_type": "code",
   "execution_count": 35,
   "id": "30e78162-24c8-464f-9ee8-f01158d0514f",
   "metadata": {},
   "outputs": [
    {
     "name": "stdout",
     "output_type": "stream",
     "text": [
      "11\n"
     ]
    }
   ],
   "source": [
    "print(a)"
   ]
  },
  {
   "cell_type": "markdown",
   "id": "3b2eff56-7ef9-4793-b8a4-b8728863d353",
   "metadata": {},
   "source": [
    "[Back to Table of Contents](#top)"
   ]
  }
 ],
 "metadata": {
  "kernelspec": {
   "display_name": "Python 3 (ipykernel)",
   "language": "python",
   "name": "python3"
  },
  "language_info": {
   "codemirror_mode": {
    "name": "ipython",
    "version": 3
   },
   "file_extension": ".py",
   "mimetype": "text/x-python",
   "name": "python",
   "nbconvert_exporter": "python",
   "pygments_lexer": "ipython3",
   "version": "3.11.5"
  }
 },
 "nbformat": 4,
 "nbformat_minor": 5
}
