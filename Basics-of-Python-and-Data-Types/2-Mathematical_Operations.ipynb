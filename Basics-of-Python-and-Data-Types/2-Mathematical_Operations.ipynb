{
 "cells": [
  {
   "cell_type": "markdown",
   "id": "f9864459-363c-4fa7-9c54-e779cbd31189",
   "metadata": {},
   "source": [
    "# Mathematical Operations <a name=\"top\"></a>\n",
    "* [1 - Summary of The Previous Subject](#chapter1)\n",
    "    * [1.1 - Addition](#section_1_1)\n",
    "    * [1.2 - Subtraction](#section_1_2)\n",
    "    * [1.3 - Multiplication](#section_1_3)\n",
    "    * [1.4 - Division](#section_1_4)\n",
    "* [2 - Other Mathematical Operators](#chapter2)\n",
    "    * [2.1 - Integer Division (Floor Division) (//)](#section_2_1)\n",
    "    * [2.2 - Finding the Remainder Term (%)](#section_2_2)\n",
    "    * [2.3 - Power Operator (**)](#section_2_3)\n",
    "    * [2.4 - Changing Sign (-)](#section_2_4)\n",
    "\n",
    "* [3 - The Order of Processing](#chapter3)"
   ]
  },
  {
   "cell_type": "markdown",
   "id": "2e317ac7-a7ab-40e9-9101-26c93d76dbc1",
   "metadata": {},
   "source": [
    "## 1 - Summary of The Previous Subject <a class=\"anchor\" id=\"chapter1\"></a>"
   ]
  },
  {
   "cell_type": "markdown",
   "id": "f3a96c8e-daf2-4756-a736-07832afdabe5",
   "metadata": {},
   "source": [
    "### 1.1 - Addition <a id=\"section_1_1\"></a>"
   ]
  },
  {
   "cell_type": "markdown",
   "id": "703cc7be-624a-4021-adbd-89c934bdd6ba",
   "metadata": {},
   "source": [
    "#### Integer"
   ]
  },
  {
   "cell_type": "code",
   "execution_count": 1,
   "id": "e3f6f01a-97ff-4a80-81b8-7cfc7069ccce",
   "metadata": {},
   "outputs": [
    {
     "name": "stdout",
     "output_type": "stream",
     "text": [
      "29\n"
     ]
    }
   ],
   "source": [
    "a = 14\n",
    "b = 15\n",
    "print(a + b)"
   ]
  },
  {
   "cell_type": "markdown",
   "id": "4fbb61d2-35a3-407b-9bf4-b558fb89598e",
   "metadata": {},
   "source": [
    "#### Float"
   ]
  },
  {
   "cell_type": "code",
   "execution_count": 2,
   "id": "9889fb92-a435-4da8-9098-aef7f1b6ae8f",
   "metadata": {},
   "outputs": [
    {
     "name": "stdout",
     "output_type": "stream",
     "text": [
      "7.9\n"
     ]
    }
   ],
   "source": [
    "i = 3.1\n",
    "j = 4.8\n",
    "print(i + j)"
   ]
  },
  {
   "cell_type": "markdown",
   "id": "3dfa1e87-234d-445d-ab2b-3ef9c43d5266",
   "metadata": {},
   "source": [
    "[Back to Table of Contents](#top)"
   ]
  },
  {
   "cell_type": "markdown",
   "id": "71c448b0-02ff-47d6-98a9-0ea801e639b7",
   "metadata": {},
   "source": [
    "### 1.2 - Subtraction <a id=\"section_1_2\"></a>"
   ]
  },
  {
   "cell_type": "markdown",
   "id": "facfa129-5c4c-4c5a-86a9-5a6d839be329",
   "metadata": {},
   "source": [
    "#### Integer"
   ]
  },
  {
   "cell_type": "code",
   "execution_count": 5,
   "id": "e7a77459-435b-45c5-8a6c-ab873b29905f",
   "metadata": {},
   "outputs": [
    {
     "name": "stdout",
     "output_type": "stream",
     "text": [
      "-47\n"
     ]
    }
   ],
   "source": [
    "a = 28\n",
    "b = 35\n",
    "c = 40\n",
    "print(a - b - c)"
   ]
  },
  {
   "cell_type": "code",
   "execution_count": 6,
   "id": "53285ceb-fc60-4f60-8c29-5965fd679333",
   "metadata": {},
   "outputs": [
    {
     "name": "stdout",
     "output_type": "stream",
     "text": [
      "6\n"
     ]
    }
   ],
   "source": [
    "# You can also use negative integer numbers.\n",
    "t = -1\n",
    "y = 5\n",
    "print(y - t)"
   ]
  },
  {
   "cell_type": "markdown",
   "id": "bad4f77b-7728-4dcd-8284-eec17d93e104",
   "metadata": {},
   "source": [
    "#### Float"
   ]
  },
  {
   "cell_type": "code",
   "execution_count": 7,
   "id": "990267d6-b7fe-45aa-b756-c75f9111eb8c",
   "metadata": {},
   "outputs": [
    {
     "name": "stdout",
     "output_type": "stream",
     "text": [
      "-2.6999999999999997\n"
     ]
    }
   ],
   "source": [
    "k = 3.1\n",
    "l = 5.8\n",
    "print(k - l)"
   ]
  },
  {
   "cell_type": "markdown",
   "id": "9935ea46-968c-43c1-8c30-0af410fc5829",
   "metadata": {},
   "source": [
    "[Back to Table of Contents](#top)"
   ]
  },
  {
   "cell_type": "markdown",
   "id": "af7e15a6-80c9-45c6-91c6-63f6f615a819",
   "metadata": {},
   "source": [
    "### 1.3 - Multiplication <a id=\"section_1_3\"></a>"
   ]
  },
  {
   "cell_type": "markdown",
   "id": "aeb6fbe1-baa4-4444-930d-483d78f28b64",
   "metadata": {},
   "source": [
    "#### Integer"
   ]
  },
  {
   "cell_type": "code",
   "execution_count": 8,
   "id": "0c8d0c38-723d-4ebd-b482-09648843d296",
   "metadata": {},
   "outputs": [
    {
     "name": "stdout",
     "output_type": "stream",
     "text": [
      "20\n"
     ]
    }
   ],
   "source": [
    "a = 4\n",
    "b = 5\n",
    "print(a * b)"
   ]
  },
  {
   "cell_type": "markdown",
   "id": "2d03d88b-105f-4914-b312-05200f8d5f90",
   "metadata": {},
   "source": [
    "#### Float"
   ]
  },
  {
   "cell_type": "code",
   "execution_count": 9,
   "id": "bb225805-d33e-4107-a162-e8484542cfea",
   "metadata": {},
   "outputs": [
    {
     "name": "stdout",
     "output_type": "stream",
     "text": [
      "14.13\n"
     ]
    }
   ],
   "source": [
    "i = 3.14\n",
    "j = 4.5\n",
    "print(i * j)"
   ]
  },
  {
   "cell_type": "code",
   "execution_count": 11,
   "id": "96005f11-5a8b-4d6e-a184-0c343a1d2e83",
   "metadata": {},
   "outputs": [
    {
     "name": "stdout",
     "output_type": "stream",
     "text": [
      "9.42\n"
     ]
    }
   ],
   "source": [
    "# You can multiply one integer number and one float number. The result will be float.\n",
    "a = 3\n",
    "b = 3.14\n",
    "print(a * b)"
   ]
  },
  {
   "cell_type": "markdown",
   "id": "ee625d98-ddd8-4983-b4a8-b0319bde1454",
   "metadata": {},
   "source": [
    "[Back to Table of Contents](#top)"
   ]
  },
  {
   "cell_type": "markdown",
   "id": "907fc0d3-4b7c-491c-8509-d4ed31774ff9",
   "metadata": {},
   "source": [
    "### 1.4 - Division <a id=\"section_1_4\"></a>"
   ]
  },
  {
   "cell_type": "markdown",
   "id": "6eff28ef-3965-41b0-83d6-814ef9ef6a57",
   "metadata": {},
   "source": [
    "#### Integer"
   ]
  },
  {
   "cell_type": "code",
   "execution_count": 14,
   "id": "6b9feb60-aa95-491f-9536-7506e985b5bb",
   "metadata": {},
   "outputs": [
    {
     "name": "stdout",
     "output_type": "stream",
     "text": [
      "2.0\n"
     ]
    }
   ],
   "source": [
    "a = 4\n",
    "b = 2\n",
    "print(a / b)"
   ]
  },
  {
   "cell_type": "markdown",
   "id": "0c5fee83-0952-4db2-ad69-7c393224c14f",
   "metadata": {},
   "source": [
    "#### Float"
   ]
  },
  {
   "cell_type": "code",
   "execution_count": 16,
   "id": "f5b22a01-9e0e-4e81-a97c-0a58201663ce",
   "metadata": {},
   "outputs": [
    {
     "name": "stdout",
     "output_type": "stream",
     "text": [
      "2.512\n"
     ]
    }
   ],
   "source": [
    "i = 3.14\n",
    "j = 1.25\n",
    "print(i / j)"
   ]
  },
  {
   "cell_type": "markdown",
   "id": "a54a0216-4d1f-4fe1-876d-abb1b8c7bb8c",
   "metadata": {},
   "source": [
    "[Back to Table of Contents](#top)"
   ]
  },
  {
   "cell_type": "markdown",
   "id": "ca8435ab-31d9-4a86-8417-e5fdf11e3a0f",
   "metadata": {},
   "source": [
    "## 2 - Other Mathematical Operators <a class=\"anchor\" id=\"chapter2\"></a>"
   ]
  },
  {
   "cell_type": "markdown",
   "id": "efa263b1-07d2-423c-971f-2dc1d5f9c66f",
   "metadata": {},
   "source": [
    "### 2.1 - Integer Division (Floor Division) (//)<a id=\"section_2_1\"></a>"
   ]
  },
  {
   "cell_type": "code",
   "execution_count": 27,
   "id": "7327327b-33c2-4272-84e7-e2ab0d485b76",
   "metadata": {},
   "outputs": [
    {
     "name": "stdout",
     "output_type": "stream",
     "text": [
      "2\n"
     ]
    }
   ],
   "source": [
    "\"\"\"\n",
    "Recall (Division):\n",
    "Input = 4 / 2\n",
    "Output = 2.0\n",
    "\n",
    "Let's see the result in the floor division.\n",
    "\"\"\"\n",
    "a = 4\n",
    "b = 2\n",
    "print(4 // 2)"
   ]
  },
  {
   "cell_type": "code",
   "execution_count": 28,
   "id": "f74874b1-6e19-4c13-98b5-f9e7acbe038c",
   "metadata": {},
   "outputs": [
    {
     "name": "stdout",
     "output_type": "stream",
     "text": [
      "3\n"
     ]
    }
   ],
   "source": [
    "i = 22\n",
    "j = 7\n",
    "print(i // j)"
   ]
  },
  {
   "cell_type": "code",
   "execution_count": 32,
   "id": "6d28fb4b-8b73-484f-a4d1-d4d0f86afdf1",
   "metadata": {},
   "outputs": [
    {
     "name": "stdout",
     "output_type": "stream",
     "text": [
      "4.62280701754386\n"
     ]
    }
   ],
   "source": [
    "k = 52.7\n",
    "l = 11.4\n",
    "print(k / l)"
   ]
  },
  {
   "cell_type": "code",
   "execution_count": 34,
   "id": "f5bda447-f293-41f6-98fe-363b365fba31",
   "metadata": {},
   "outputs": [
    {
     "name": "stdout",
     "output_type": "stream",
     "text": [
      "4.0\n"
     ]
    }
   ],
   "source": [
    "print(k // l)"
   ]
  },
  {
   "cell_type": "markdown",
   "id": "04a222ad-0c0c-4940-a20f-3f94b920e6e6",
   "metadata": {},
   "source": [
    "**Note:** Floor division gives the quotient in the division of two numbers. The result may not always be an integer. <br />\n",
    "<u> For Example:</u> (52.7 / 11.4 = 4.622) <br />\n",
    "Input: 52.7 // 11.4 <br />\n",
    "Output: 4.0"
   ]
  },
  {
   "cell_type": "markdown",
   "id": "efad866d-8f3f-4568-b9ad-6e1bca0b0c82",
   "metadata": {},
   "source": [
    "[Back to Table of Contents](#top)"
   ]
  },
  {
   "cell_type": "markdown",
   "id": "e74eef8d-998a-4ac5-947d-3c16a390bc0c",
   "metadata": {},
   "source": [
    "### 2.2 - Finding the Remainder Term (%) <a id=\"section_2_2\"></a>\n",
    "You can find the remainder of the quotient of two numbers using the modulo operator (%)."
   ]
  },
  {
   "cell_type": "code",
   "execution_count": 36,
   "id": "a32c4232-b530-4807-9051-15bd8b491107",
   "metadata": {},
   "outputs": [
    {
     "name": "stdout",
     "output_type": "stream",
     "text": [
      "1\n"
     ]
    }
   ],
   "source": [
    "a = 13\n",
    "b = 4\n",
    "print(13 % 4)"
   ]
  },
  {
   "cell_type": "code",
   "execution_count": 37,
   "id": "3dc2d645-5cd0-41bc-9a8d-2ff70ef40cb1",
   "metadata": {},
   "outputs": [
    {
     "name": "stdout",
     "output_type": "stream",
     "text": [
      "11.299999999999999\n"
     ]
    }
   ],
   "source": [
    "print(22.7 % 11.4)"
   ]
  },
  {
   "cell_type": "code",
   "execution_count": 42,
   "id": "6fb0cca5-2d42-4961-a9a4-c15cf8c77ef7",
   "metadata": {},
   "outputs": [
    {
     "name": "stdout",
     "output_type": "stream",
     "text": [
      "0\n"
     ]
    }
   ],
   "source": [
    "# Umm finding the remainder of a number divided by two! \n",
    "# I'm sure you'll find it useful in our next topics.\n",
    "print(4 % 2)"
   ]
  },
  {
   "cell_type": "markdown",
   "id": "9360e9bc-ec0c-4293-826a-770e015e6e16",
   "metadata": {},
   "source": [
    "[Back to Table of Contents](#top)"
   ]
  },
  {
   "cell_type": "markdown",
   "id": "a8a56d6f-6a92-4d86-9d61-827a201e776b",
   "metadata": {},
   "source": [
    "### 2.3 - Power Operator (**) <a id=\"section_2_3\"></a>"
   ]
  },
  {
   "cell_type": "code",
   "execution_count": 43,
   "id": "d4244d2c-1dca-4608-b85d-6060dc504e72",
   "metadata": {},
   "outputs": [
    {
     "name": "stdout",
     "output_type": "stream",
     "text": [
      "16\n"
     ]
    }
   ],
   "source": [
    "a = 4\n",
    "b = 2\n",
    "print(a ** b)"
   ]
  },
  {
   "cell_type": "code",
   "execution_count": 46,
   "id": "80e6e69f-acc3-4382-8e45-b8753d432fcb",
   "metadata": {},
   "outputs": [
    {
     "name": "stdout",
     "output_type": "stream",
     "text": [
      "2.0\n"
     ]
    }
   ],
   "source": [
    "# Gotcha! You can find the cube roots by using the power operator.\n",
    "i = 8\n",
    "j = 1/3\n",
    "print(i ** j)"
   ]
  },
  {
   "cell_type": "markdown",
   "id": "fd2f56c1-ba0c-4e30-a77b-607981070935",
   "metadata": {},
   "source": [
    "[Back to Table of Contents](#top)"
   ]
  },
  {
   "cell_type": "markdown",
   "id": "ad327f1a-d662-4bb2-96bc-4b5ba8876ed2",
   "metadata": {},
   "source": [
    "### 2.4 - Changing Sign (-) <a id=\"section_2_4\"></a>"
   ]
  },
  {
   "cell_type": "code",
   "execution_count": 47,
   "id": "0513e2d2-d49a-4c65-aa3b-5e72bd52a8cc",
   "metadata": {},
   "outputs": [
    {
     "name": "stdout",
     "output_type": "stream",
     "text": [
      "-4\n"
     ]
    }
   ],
   "source": [
    "a = 4\n",
    "print(-a)"
   ]
  },
  {
   "cell_type": "markdown",
   "id": "bc6bc406-6d49-4bc9-9094-94ae875cbb63",
   "metadata": {},
   "source": [
    "[Back to Table of Contents](#top)"
   ]
  },
  {
   "cell_type": "markdown",
   "id": "008b9549-974e-4e8a-9e18-1dda1cbfbb90",
   "metadata": {},
   "source": [
    "## 3 - The Order of Processing <a class=\"anchor\" id=\"chapter3\"></a>"
   ]
  },
  {
   "cell_type": "markdown",
   "id": "f3ab8a88-006d-4db3-a945-bd210d3b43d0",
   "metadata": {},
   "source": [
    "The order of processing in Python is exactly the same in the math: \n",
    "1. The priority is the inside of the parenthesis  \r\n",
    "2. Multiplication and division is made before the addition and subtraction\r\n",
    "3. The order of processing is left to right"
   ]
  },
  {
   "cell_type": "code",
   "execution_count": 49,
   "id": "07c70529-fbf2-4016-bb0f-13fb8bf67e65",
   "metadata": {},
   "outputs": [
    {
     "name": "stdout",
     "output_type": "stream",
     "text": [
      "-4.0\n"
     ]
    }
   ],
   "source": [
    "print(8 + ((4 * 3) / 2) - 18)"
   ]
  },
  {
   "cell_type": "markdown",
   "id": "fa04b2fd-e39f-4587-99a1-7709c572f893",
   "metadata": {},
   "source": [
    "[Back to Table of Contents](#top)"
   ]
  },
  {
   "cell_type": "code",
   "execution_count": null,
   "id": "eae5b864-8f8e-4e95-8d96-096103add139",
   "metadata": {},
   "outputs": [],
   "source": []
  }
 ],
 "metadata": {
  "kernelspec": {
   "display_name": "Python 3 (ipykernel)",
   "language": "python",
   "name": "python3"
  },
  "language_info": {
   "codemirror_mode": {
    "name": "ipython",
    "version": 3
   },
   "file_extension": ".py",
   "mimetype": "text/x-python",
   "name": "python",
   "nbconvert_exporter": "python",
   "pygments_lexer": "ipython3",
   "version": "3.11.5"
  }
 },
 "nbformat": 4,
 "nbformat_minor": 5
}
