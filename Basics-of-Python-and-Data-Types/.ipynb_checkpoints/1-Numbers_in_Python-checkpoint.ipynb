{
 "cells": [
  {
   "cell_type": "markdown",
   "id": "3e1af3bd-1534-4267-bf25-2793e228ccbd",
   "metadata": {},
   "source": [
    "# Numbers in Python\n",
    "* [Integer and Float Data Types](#chapter1)\n",
    "    * [Integer](#section_1_1)\n",
    "    * [Float](#section_1_2)\n",
    "* [Basic Mathematical Operations](#chapter2)\n",
    "    * [Section 2.1](#section_2_1)\n",
    "        * [Sub Section 2.1.1](#sub_section_2_1_1)\n",
    "        * [Sub Section 2.1.2](#sub_section_2_1_2)\n",
    "* [Defining Variables](#chapter3)\n",
    "    * [Section 3.1](#section_3_1)\n",
    "        * [Sub Section 3.1.1](#sub_section_3_1_1)\n",
    "        * [Sub Section 3.1.2](#sub_section_3_1_2)\n",
    "    * [Section 3.2](#section_3_2)\n",
    "        * [Sub Section 3.2.1](#sub_section_3_2_1)"
   ]
  },
  {
   "cell_type": "markdown",
   "id": "fcab1dd4-4758-47ec-b03c-d8289a5e8008",
   "metadata": {},
   "source": [
    "## Integer and Float Data Types <a class=\"anchor\" id=\"chapter1\"></a>"
   ]
  },
  {
   "cell_type": "markdown",
   "id": "fdc6b6f7-5b99-4524-87cc-3443f4e9ac38",
   "metadata": {},
   "source": [
    "### Integer <a id=\"section_1_1\"></a>\n",
    "All the numbers (negative, zero or positive) are integer in the math.<br />\n",
    "**For example:** -100, 34, 2, 0\n"
   ]
  },
  {
   "cell_type": "markdown",
   "id": "fabec34b-6288-4e66-939d-b9e12ad5dc9c",
   "metadata": {},
   "source": [
    "### Float <a id=\"section_1_2\"></a>\n",
    "Floats are one of the varieties of numbers like . <br />\n",
    "**For example:** 3.14, 3.55456, -13.54"
   ]
  },
  {
   "cell_type": "markdown",
   "id": "d23c8e12-10b2-4ee9-9cab-5a4234fbe7e1",
   "metadata": {
    "jp-MarkdownHeadingCollapsed": true
   },
   "source": [
    "## Chapter 2 <a id=\"chapter2\"></a>\n",
    "This is chapter number 2\n",
    "### Section 2.1 <a id=\"section_2_1\"></a>\n",
    "This is section 2.1\n",
    "#### Section 2.1.1 <a id=\"sub_section_2_1_1\"></a>\n",
    "This is sub section 2.1.1\n",
    "#### Section 2.1.2 <a id=\"sub_section_2_1_2\"></a>\n",
    "This is sub section 2.1.2\n",
    "## Chapter 3 <a id=\"chapter3\"></a>\n",
    "This is chapter number 3\n",
    "### Section 3.1 <a id=\"section_3_1\"></a>\n",
    "This is section 3.1\n",
    "#### Section 3.1.1 <a id=\"sub_section_3_1_1\"></a>\n",
    "This is sub section 3.1.1\n",
    "#### Section 3.1.2 <a id=\"sub_section_3_1_2\"></a>\n",
    "This is sub section 3.1.2\n",
    "### Section 3.2 <a id=\"section_3_2\"></a>\n",
    "This is section 3.2\n",
    "#### Section 3.2.1 <a id=\"sub_section_3_2_1\"></a>\n",
    "This is sub section 3.2.1"
   ]
  },
  {
   "cell_type": "code",
   "execution_count": null,
   "id": "12579ec4-b146-40f6-83e3-080fdf1eb2b6",
   "metadata": {},
   "outputs": [],
   "source": []
  }
 ],
 "metadata": {
  "kernelspec": {
   "display_name": "Python 3 (ipykernel)",
   "language": "python",
   "name": "python3"
  },
  "language_info": {
   "codemirror_mode": {
    "name": "ipython",
    "version": 3
   },
   "file_extension": ".py",
   "mimetype": "text/x-python",
   "name": "python",
   "nbconvert_exporter": "python",
   "pygments_lexer": "ipython3",
   "version": "3.11.5"
  }
 },
 "nbformat": 4,
 "nbformat_minor": 5
}
